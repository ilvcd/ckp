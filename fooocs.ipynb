{
  "nbformat": 4,
  "nbformat_minor": 0,
  "metadata": {
    "colab": {
      "provenance": [],
      "gpuType": "T4"
    },
    "kernelspec": {
      "name": "python3",
      "display_name": "Python 3"
    },
    "language_info": {
      "name": "python"
    },
    "accelerator": "GPU"
  },
  "cells": [
    {
      "cell_type": "code",
      "execution_count": null,
      "metadata": {
        "id": "dChS4kNe-dun"
      },
      "outputs": [],
      "source": [
        "!pip install pygit2==1.12.2\n",
        "%cd /content\n",
        "!git clone https://github.com/lllyasviel/Fooocus.git\n",
        "!cp /content/drive/MyDrive/config.txt /content/Fooocus\n",
        "%cd /content/Fooocus/models/checkpoints\n",
        "#!wget https://huggingface.co/Lykon/dreamshaper-8-lcm/resolve/main/DreamShaper8_LCM.safetensors\n",
        "!wget https://huggingface.co/SG161222/Realistic_Vision_V5.1_noVAE/resolve/main/Realistic_Vision_V5.1_fp16-no-ema.safetensors\n",
        "%cd /content/Fooocus/models/vae_approx\n",
        "!wget https://github.com/madebyollin/taesd/raw/main/taesd_decoder.pth\n",
        "%cd /content/Fooocus/models/loras\n",
        "!wget https://huggingface.co/latent-consistency/lcm-lora-sdv1-5/resolve/main/pytorch_lora_weights.safetensors\n",
        "!mv pytorch_lora_weights.safetensors lcm.safetensors\n",
        "!wget https://civitai.com/api/download/models/273993?type=Model&format=SafeTensor\n",
        "!mv 273993?type=Model dpo.safetensors\n",
        "%cd /content/Fooocus\n",
        "!wget https://raw.githubusercontent.com/ilvcd/ckp/main/config.txt\n",
        "%cd /content/Fooocus\n",
        "!wget https://raw.githubusercontent.com/ilvcd/ckp/main/default_pipeline.py\n",
        "!cp -f /content/Fooocus/default_pipeline.py /content/Fooocus/modules/default_pipeline.py\n",
        "!python entry_with_update.py --share --always-gpu --disable-offload-from-vram --unet-in-fp8-e4m3fn --vae-in-fp16 --clip-in-fp8-e4m3fn\n"
      ]
    }
  ]
}