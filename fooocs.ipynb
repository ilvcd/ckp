{
  "nbformat": 4,
  "nbformat_minor": 0,
  "metadata": {
    "colab": {
      "provenance": [],
      "gpuType": "T4"
    },
    "kernelspec": {
      "name": "python3",
      "display_name": "Python 3"
    },
    "language_info": {
      "name": "python"
    },
    "accelerator": "GPU"
  },
  "cells": [
    {
      "cell_type": "code",
      "execution_count": null,
      "metadata": {
        "id": "dChS4kNe-dun"
      },
      "outputs": [],
      "source": [
        "!pip install pygit2==1.12.2\n",
        "%cd /content\n",
        "!git clone https://github.com/lllyasviel/Fooocus.git\n",
        "!cp /content/drive/MyDrive/config.txt /content/Fooocus\n",
        "%cd /content/Fooocus/models/checkpoints\n",
        "!wget https://civitai.com/api/download/models/243290?type=Model&format=SafeTensor&size=full&fp=fp16\n", 
        "!mv 243290?type=Model leosamHelloworldTurbo_20TurboLCM.safetensors\n",
        "%cd /content/Fooocus/models/vae_approx\n",
        "!wget https://github.com/madebyollin/taesd/raw/main/taesd_decoder.pth\n",
        "!wget https://github.com/madebyollin/taesd/raw/main/taesdxl_decoder.pth\n",
        "%cd /content/Fooocus/models/loras\n",
        "!wget https://huggingface.co/lllyasviel/fav_models/resolve/main/fav/SDXL_FILM_PHOTOGRAPHY_STYLE_BetaV0.4.safetensors\n",
        "!wget https://huggingface.co/stabilityai/stable-diffusion-xl-base-1.0/resolve/main/sd_xl_offset_example-lora_1.0.safetensors\n",
        "!wget https://huggingface.co/PvDeep/Add-Detail-XL/resolve/main/add-detail-xl.safetensors\n",
        "!wget https://civitai.com/api/download/models/273996?type=Model&format=SafeTensor\n",
        "!mv 273993?type=Model dpo.safetensors\n",
        "%cd /content/Fooocus\n",
        "!wget https://raw.githubusercontent.com/ilvcd/ckp/main/config.txt\n",
        "%cd /content/Fooocus\n",
        "#!wget https://raw.githubusercontent.com/ilvcd/ckp/main/default_pipeline.py\n",
        "#!cp -f /content/Fooocus/default_pipeline.py /content/Fooocus/modules/default_pipeline.py\n",
        "!python entry_with_update.py --share --always-gpu --disable-offload-from-vram --unet-in-fp8-e4m3fn --vae-in-fp16 --clip-in-fp8-e4m3fn\n"
      ]
    }
  ]
}
